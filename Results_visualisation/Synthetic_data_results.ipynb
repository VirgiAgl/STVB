{
 "cells": [
  {
   "cell_type": "code",
   "execution_count": 1,
   "metadata": {},
   "outputs": [
    {
     "name": "stdout",
     "output_type": "stream",
     "text": [
      "\n",
      "WARNING: The TensorFlow contrib module will not be included in TensorFlow 2.0.\n",
      "For more information, please see:\n",
      "  * https://github.com/tensorflow/community/blob/master/rfcs/20180907-contrib-sunset.md\n",
      "  * https://github.com/tensorflow/addons\n",
      "If you depend on functionality not listed there, please file an issue.\n",
      "\n",
      "Importing Jupyter notebook from Performance_metrics.ipynb\n"
     ]
    }
   ],
   "source": [
    "import numpy as np\n",
    "import scipy \n",
    "import random\n",
    "import math\n",
    "import csv\n",
    "from scipy.stats import poisson \n",
    "from scipy.integrate import quad\n",
    "import sklearn.metrics.pairwise as sk\n",
    "import tensorflow as tf\n",
    "import tensorflow_probability as tfp\n",
    "from scipy.spatial import distance\n",
    "from matplotlib import pyplot as plt\n",
    "import sklearn.gaussian_process.kernels as kern\n",
    "import scipy.io\n",
    "from tabulate import _table_formats, tabulate\n",
    "import seaborn as sns  # for nicer graphics\n",
    "import warnings\n",
    "import nbimporter\n",
    "import Performance_metrics as metrics\n",
    "warnings.simplefilter(action='ignore', category=FutureWarning)"
   ]
  },
  {
   "cell_type": "markdown",
   "metadata": {
    "heading_collapsed": true
   },
   "source": [
    "# ----------------------------------- Function 1---------------------------------------"
   ]
  },
  {
   "cell_type": "code",
   "execution_count": 3,
   "metadata": {
    "hidden": true
   },
   "outputs": [],
   "source": [
    "num_realisation = 1\n",
    "tau_max = 50.\n",
    "folder = '../Data/synthetic_experiments/'\n",
    "num_samples = 10"
   ]
  },
  {
   "cell_type": "markdown",
   "metadata": {
    "heading_collapsed": true,
    "hidden": true
   },
   "source": [
    "## Import data and prediction- Function 1"
   ]
  },
  {
   "cell_type": "code",
   "execution_count": 8,
   "metadata": {
    "hidden": true
   },
   "outputs": [],
   "source": [
    "## Events for different realisations\n",
    "events_list = np.load('../Data/synthetic_experiments/training_datasets/events_list_MTSM_1.npy', allow_pickle=True,  encoding='latin1')\n",
    "intensities = np.load('../Data/synthetic_experiments/sample_intensity_MTSM_1.npy', allow_pickle=True,  encoding='latin1')\n",
    "\n",
    "\n",
    "## To compute perfomances\n",
    "pred_mean_MTSM = np.load('../Data/synthetic_experiments/pred_mean_MTSM_1.npy', allow_pickle=True,  encoding='latin1')\n",
    "pred_var_MTSM = np.load('../Data/synthetic_experiments/pred_var_MTSM_1.npy', allow_pickle=True,  encoding='latin1')\n",
    "latent_means = np.load('../Data/synthetic_experiments/latent_means_MTSM_1.npy', allow_pickle=True,  encoding='latin1')\n",
    "latent_vars = np.load('../Data/synthetic_experiments/latent_variances_MTSM_1.npy', allow_pickle=True,  encoding='latin1')\n",
    "alpha_final = np.load('../Data/synthetic_experiments/alpha_final_MTSM_1.npy', allow_pickle=True,  encoding='latin1')\n",
    "beta_final = np.load('../Data/synthetic_experiments/beta_final_MTSM_1.npy', allow_pickle=True,  encoding='latin1')\n",
    "samples_latent_function = np.load('../Data/synthetic_experiments/samples_latent_function_MTSM_1.npy', allow_pickle=True,  encoding='latin1')\n",
    "\n",
    "time_interations = np.load('../Data/synthetic_experiments/time_iterations_MTSM_1.npy', allow_pickle=True,  encoding='latin1')\n",
    "time_to_train_list_1 = np.load('../Data/synthetic_experiments/time_to_train_list_MTSM_1.npy', allow_pickle=True,  encoding='latin1')\n",
    "\n",
    "\n",
    "## To assess convergence\n",
    "nelbo = np.load('../Data/synthetic_experiments/nelbo_values_MTSM_1.npy', allow_pickle=True,  encoding='latin1')\n",
    "cross_entropy_U = np.load('../Data/synthetic_experiments/crossent_vector_MTSM_1.npy', allow_pickle=True,  encoding='latin1')\n",
    "entropy_U = np.load('../Data/synthetic_experiments/ent_vector_MTSM_1.npy', allow_pickle=True,  encoding='latin1')\n",
    "entropy_locations = np.load('../Data/synthetic_experiments/ent_x_m_vector_MTSM_1.npy', allow_pickle=True,  encoding='latin1')\n",
    "ell = np.load('../Data/synthetic_experiments/ell_vector_MTSM_1.npy', allow_pickle=True,  encoding='latin1')\n",
    "value_for_events_locations_vector = np.load('../Data/synthetic_experiments/value_for_events_locations_vector_MTSM_1.npy', allow_pickle=True,  encoding='latin1')\n",
    "value_for_thinned_events_vector = np.load('../Data/synthetic_experiments/value_for_thinned_events_vector_MTSM_1.npy', allow_pickle=True,  encoding='latin1')\n",
    "\n",
    "probabilities_mixture_vector = np.load('../Data/synthetic_experiments/probabilities_mixture_vector_MTSM_1.npy', allow_pickle=True,  encoding='latin1')\n",
    "means_mixture_vector = np.load('../Data/synthetic_experiments/means_mixture_vector_MTSM_1.npy', allow_pickle=True,  encoding='latin1')\n",
    "variances_mixture_vector = np.load('../Data/synthetic_experiments/variances_mixture_vector_MTSM_1.npy')\n",
    "value_expectation_vector = np.load('../Data/synthetic_experiments/value_expectation_vector_MTSM_1.npy')\n",
    "kl_lambda_max_vector = np.load('../Data/synthetic_experiments/kl_lambda_max_vector_MTSM_1.npy')\n"
   ]
  },
  {
   "cell_type": "code",
   "execution_count": 30,
   "metadata": {
    "hidden": true
   },
   "outputs": [],
   "source": [
    "## Discretise data for standard LGCP\n",
    "discrete_output_matrix1 = np.zeros((50,num_realisation))\n",
    "for p in range(num_realisation):\n",
    "    binned_count = np.histogram(events_list[p], bins=50, range=(0,50)) \n",
    "    discrete_output_matrix1[:,p] = binned_count[0]\n",
    "    discrete_inputs1 = (binned_count[1] + 0.5)[:-1]\n",
    "\n",
    "true_number_events1 = np.sum(discrete_output_matrix1, axis =0)"
   ]
  },
  {
   "cell_type": "markdown",
   "metadata": {
    "heading_collapsed": true,
    "hidden": true
   },
   "source": [
    "## Import test data"
   ]
  },
  {
   "cell_type": "code",
   "execution_count": 12,
   "metadata": {
    "hidden": true
   },
   "outputs": [],
   "source": [
    "test_data1 = np.loadtxt('../Data/synthetic_experiments/test_function1/test1.txt')\n",
    "test_data2 = np.loadtxt('../Data/synthetic_experiments/test_function1/test2.txt')\n",
    "test_data3 = np.loadtxt('../Data/synthetic_experiments/test_function1/test3.txt')\n",
    "test_data4 = np.loadtxt('../Data/synthetic_experiments/test_function1/test4.txt')\n",
    "test_data5 = np.loadtxt('../Data/synthetic_experiments/test_function1/test5.txt')\n",
    "test_data6 = np.loadtxt('../Data/synthetic_experiments/test_function1/test6.txt')\n",
    "test_data7 = np.loadtxt('../Data/synthetic_experiments/test_function1/test7.txt')\n",
    "test_data8 = np.loadtxt('../Data/synthetic_experiments/test_function1/test8.txt')\n",
    "test_data9 = np.loadtxt('../Data/synthetic_experiments/test_function1/test9.txt')\n",
    "test_data10 = np.loadtxt('../Data/synthetic_experiments/test_function1/test10.txt')\n",
    "test_data_list = [None]*10\n",
    "test_data_list[0] = test_data1\n",
    "test_data_list[1] = test_data2\n",
    "test_data_list[2] = test_data3\n",
    "test_data_list[3] = test_data4\n",
    "test_data_list[4] = test_data5\n",
    "test_data_list[5] = test_data6\n",
    "test_data_list[6] = test_data7\n",
    "test_data_list[7] = test_data8\n",
    "test_data_list[8] = test_data9\n",
    "test_data_list[9] = test_data10"
   ]
  },
  {
   "cell_type": "markdown",
   "metadata": {
    "heading_collapsed": true,
    "hidden": true
   },
   "source": [
    "## Performances"
   ]
  },
  {
   "cell_type": "code",
   "execution_count": 13,
   "metadata": {
    "hidden": true
   },
   "outputs": [],
   "source": [
    "## Compute L2\n",
    "x_test = np.linspace(0.0, 50.0, num=50)\n",
    "function1 = 2.*np.exp(-x_test/15.) + np.exp(-((x_test-25.)/10.)**2)\n",
    "num_samples = 100"
   ]
  },
  {
   "cell_type": "code",
   "execution_count": 14,
   "metadata": {
    "hidden": true,
    "scrolled": true
   },
   "outputs": [
    {
     "name": "stdout",
     "output_type": "stream",
     "text": [
      "Mean L2 20.576485859355707\n"
     ]
    }
   ],
   "source": [
    "mse_vector_1 = metrics.compute_l_2(num_realisation, pred_mean_MTSM, function1, x_test)\n",
    "print('Mean L2', np.mean(mse_vector_1))"
   ]
  },
  {
   "cell_type": "code",
   "execution_count": 15,
   "metadata": {
    "hidden": true
   },
   "outputs": [
    {
     "name": "stdout",
     "output_type": "stream",
     "text": [
      "Mean lp -380.097436161633\n"
     ]
    }
   ],
   "source": [
    "log_prob_tensor_1 = metrics.compute_lp(num_realisation, x_test, test_data_list, 'sigmoidal',\n",
    "                                     latent_means, latent_vars, alpha_final, beta_final)\n",
    "print('Mean lp', np.mean(log_prob_tensor_1))\n",
    "# print('Mean lp', log_prob_tensor)"
   ]
  },
  {
   "cell_type": "code",
   "execution_count": 16,
   "metadata": {
    "hidden": true
   },
   "outputs": [
    {
     "name": "stdout",
     "output_type": "stream",
     "text": [
      "Q_2 -0.4578890784127809\n"
     ]
    }
   ],
   "source": [
    "Q_2_1 = metrics.compute_Q2(num_realisation, pred_mean_MTSM, function1)\n",
    "print('Q_2', np.mean(Q_2_1))"
   ]
  },
  {
   "cell_type": "code",
   "execution_count": 17,
   "metadata": {
    "hidden": true
   },
   "outputs": [
    {
     "name": "stdout",
     "output_type": "stream",
     "text": [
      "coverage 1.0\n"
     ]
    }
   ],
   "source": [
    "coverage_1, coverage_1_std, count_matrix_1 = metrics.compute_coverage_insample(num_realisation, num_samples, discrete_output_matrix1, x_test, \n",
    "                    latent_means, latent_vars, test_data_list, 'sigmoidal', alpha = alpha_final, beta = beta_final)\n",
    "print('coverage', coverage_1)\n",
    "\n"
   ]
  },
  {
   "cell_type": "code",
   "execution_count": 18,
   "metadata": {
    "hidden": true
   },
   "outputs": [
    {
     "name": "stdout",
     "output_type": "stream",
     "text": [
      "coverage out of sample 1.0\n"
     ]
    }
   ],
   "source": [
    "coverage_out_of_sample_1, _ = metrics.compute_coverage_out_sample(num_realisation, num_samples, discrete_output_matrix1, x_test, \n",
    "                    latent_means, latent_vars, test_data_list, 'sigmoidal', alpha = alpha_final, beta = beta_final)\n",
    "print('coverage out of sample', coverage_out_of_sample_1)\n"
   ]
  },
  {
   "cell_type": "code",
   "execution_count": 19,
   "metadata": {
    "hidden": true
   },
   "outputs": [
    {
     "name": "stdout",
     "output_type": "stream",
     "text": [
      "nlpl 17.4540380082235\n"
     ]
    }
   ],
   "source": [
    "nlpl_1, nlpl_1_var = metrics.compute_nlpl(x_test, num_realisation, latent_means, latent_vars, \n",
    "             test_data_list, 'sigmoidal', num_samples = num_samples, alpha = alpha_final, beta = beta_final)\n",
    "print('nlpl', np.mean(nlpl_1))\n"
   ]
  },
  {
   "cell_type": "code",
   "execution_count": 20,
   "metadata": {
    "hidden": true
   },
   "outputs": [],
   "source": [
    "level = np.array([10,20,30,40,50])\n",
    "coverage_matrix_train_1 = np.zeros((level.shape[0],1))\n",
    "coverage_matrix_train_1_std = np.zeros((level.shape[0],1))\n",
    "coverage_matrix_test_1 = np.zeros((level.shape[0],1))\n",
    "coverage_matrix_test_1_std = np.zeros((level.shape[0],1))\n",
    "for i in range(level.shape[0]):\n",
    "    coverage_matrix_train_1[i], coverage_matrix_train_1_std[i], _ = metrics.compute_coverage_insample(num_realisation, num_samples, discrete_output_matrix1, x_test, \n",
    "                    latent_means, latent_vars, test_data_list, 'sigmoidal', \n",
    "                alpha = alpha_final, beta = beta_final, credible_interval = level[i])\n",
    "    coverage_matrix_test_1[i], coverage_matrix_test_1_std[i] = metrics.compute_coverage_out_sample(num_realisation, num_samples, discrete_output_matrix1, x_test, \n",
    "                    latent_means, latent_vars, test_data_list, 'sigmoidal', \n",
    "                alpha = alpha_final, beta = beta_final, credible_interval = level[i])\n",
    "    \n",
    "        "
   ]
  },
  {
   "cell_type": "code",
   "execution_count": 21,
   "metadata": {
    "hidden": true
   },
   "outputs": [
    {
     "name": "stdout",
     "output_type": "stream",
     "text": [
      "train [[1.]\n",
      " [1.]\n",
      " [0.]\n",
      " [0.]\n",
      " [0.]]\n",
      "test [[0.]\n",
      " [0.]\n",
      " [0.]\n",
      " [0.]\n",
      " [0.]]\n"
     ]
    }
   ],
   "source": [
    "print('train',coverage_matrix_train_1)\n",
    "print('test',coverage_matrix_test_1_std)"
   ]
  },
  {
   "cell_type": "markdown",
   "metadata": {
    "heading_collapsed": true,
    "hidden": true
   },
   "source": [
    "## Plots"
   ]
  },
  {
   "cell_type": "markdown",
   "metadata": {
    "hidden": true
   },
   "source": [
    "### Plots mean intensities"
   ]
  },
  {
   "cell_type": "code",
   "execution_count": 26,
   "metadata": {
    "hidden": true
   },
   "outputs": [],
   "source": [
    "##### Plot the true intensities and the estimated one for every point process realisation\n",
    "length=6\n",
    "width=4\n",
    "markersize = 5\n",
    "trans_point = 0.3\n",
    "trans_line = 0.9\n",
    "col_true = 'dimgrey'\n",
    "col_mt = 'red'\n",
    "col_mt_gp = 'green'\n",
    "style_gp = '--'\n",
    "col_st = 'green'\n",
    "style_st = '--'\n",
    "col_pooling = \"darkviolet\"\n",
    "col_dots = 'black'\n",
    "col_icm = 'blue'\n",
    "style_icm = '--'\n",
    "lenght_interval = 2\n",
    "style_arrow = '|-|'\n",
    "style_data = 'o'\n",
    "face_color= 'none'\n",
    "color_interval = 'orange'\n",
    "color_events = 'black'\n",
    "color_our = 'red'\n",
    "color_adams = 'green'\n",
    "color_donner = 'blue'\n",
    "color_lloyds = 'orange'\n",
    "color_lgcp = 'magenta'\n",
    "\n",
    "font = {'color':  'black',\n",
    "        'weight': 'normal',\n",
    "        'size': 16,\n",
    "        }"
   ]
  },
  {
   "cell_type": "code",
   "execution_count": 27,
   "metadata": {
    "hidden": true,
    "scrolled": false
   },
   "outputs": [
    {
     "name": "stderr",
     "output_type": "stream",
     "text": [
      "No handles with labels found to put in legend.\n"
     ]
    },
    {
     "data": {
      "image/png": "[encoded data removed]",
      "text/plain": [
       "<Figure size 1080x504 with 10 Axes>"
      ]
     },
     "metadata": {
      "needs_background": "light"
     },
     "output_type": "display_data"
    }
   ],
   "source": [
    "num_realisation = 1\n",
    "f, axes = plt.subplots(2, 5)\n",
    "f.set_figheight(7)\n",
    "f.set_figwidth(15)\n",
    "f.subplots_adjust(hspace=0.20)\n",
    "f.subplots_adjust(wspace=0.3)\n",
    "for p in range(num_realisation):\n",
    "    ax = axes.flat[p]\n",
    "    ax.xaxis.set_visible(True)\n",
    "    ax.tick_params(labelsize=11)\n",
    "    ax.spines['top'].set_visible(False)\n",
    "    ax.spines['right'].set_visible(False)\n",
    "    ax.tick_params(axis='y', labelsize=13)\n",
    "    ax.tick_params(axis='x', labelsize=7)\n",
    "    ## True intensity\n",
    "    ax.plot(np.linspace(0.0, tau_max, num=200)[:,np.newaxis], intensities[0,:,0], '-', mew=2, color = col_true, markersize=4, alpha=trans_line, label = 'GT')\n",
    "    \n",
    "    ## Predictions\n",
    "    ax.scatter(events_list[p], np.repeat(0.,events_list[p].shape[0]), color = color_events, \n",
    "               marker = '|', label = 'Events')\n",
    "    \n",
    "    ax.plot(np.linspace(0.0, tau_max, num=50)[:,np.newaxis], pred_mean_MTSM[p], color = color_our, \n",
    "            label = 'OUR')\n",
    "        \n",
    "\n",
    "plt.legend()\n",
    "\n",
    "plt.show()"
   ]
  },
  {
   "cell_type": "markdown",
   "metadata": {
    "hidden": true
   },
   "source": [
    "### Plot posterior count distribution"
   ]
  },
  {
   "cell_type": "code",
   "execution_count": 31,
   "metadata": {
    "hidden": true
   },
   "outputs": [
    {
     "data": {
      "image/png": "[encoded data removed]",
      "text/plain": [
       "<Figure size 1440x504 with 10 Axes>"
      ]
     },
     "metadata": {
      "needs_background": "light"
     },
     "output_type": "display_data"
    }
   ],
   "source": [
    "f, axes = plt.subplots(2, 5)\n",
    "#, sharex=True\n",
    "f.set_figheight(7)\n",
    "f.set_figwidth(20)\n",
    "f.subplots_adjust(hspace=0.20)\n",
    "f.subplots_adjust(wspace=0.3)\n",
    "sns.despine(left=True)\n",
    "\n",
    "for p in range(num_realisation):\n",
    "#for ax in axes.flat:\n",
    "    ax = axes.flat[p]\n",
    "    #plt.hist(count_matrix[:,0],bins = 20, histtype='barstacked')\n",
    "    sns.kdeplot(count_matrix_1[:,p], ax=ax, color = color_our, label = 'OUR')\n",
    "    #sns.kdeplot(Lloyds_count_matrix_1[:,p], ax=ax, color = color_lloyds, label = 'Lloyds')\n",
    "    ax.axvline(x=true_number_events1[p], color = 'black')\n"
   ]
  },
  {
   "cell_type": "markdown",
   "metadata": {
    "hidden": true
   },
   "source": [
    "### Save variables for future aggregate plot"
   ]
  },
  {
   "cell_type": "code",
   "execution_count": 32,
   "metadata": {
    "hidden": true
   },
   "outputs": [],
   "source": [
    "intensities_1 = intensities\n",
    "events_list_1 = events_list\n",
    "pred_mean_MTSM_1 = pred_mean_MTSM\n",
    "pred_var_MTSM_1 = pred_var_MTSM"
   ]
  },
  {
   "cell_type": "code",
   "execution_count": null,
   "metadata": {
    "hidden": true
   },
   "outputs": [],
   "source": []
  },
  {
   "cell_type": "code",
   "execution_count": null,
   "metadata": {
    "hidden": true
   },
   "outputs": [],
   "source": []
  },
  {
   "cell_type": "code",
   "execution_count": null,
   "metadata": {
    "hidden": true
   },
   "outputs": [],
   "source": []
  },
  {
   "cell_type": "markdown",
   "metadata": {
    "heading_collapsed": true
   },
   "source": [
    "# ----------------------------------- Function 2---------------------------------------\n"
   ]
  },
  {
   "cell_type": "code",
   "execution_count": 34,
   "metadata": {
    "hidden": true
   },
   "outputs": [],
   "source": [
    "num_realisation = 1\n",
    "epochs = 500\n",
    "tau_max = 5\n",
    "inputs = np.linspace(0., tau_max, num=200)[:, np.newaxis]\n",
    "folder = '../Data/synthetic_experiments/'"
   ]
  },
  {
   "cell_type": "markdown",
   "metadata": {
    "heading_collapsed": true,
    "hidden": true
   },
   "source": [
    "## Import data and prediction - Function 2"
   ]
  },
  {
   "cell_type": "code",
   "execution_count": 35,
   "metadata": {
    "hidden": true
   },
   "outputs": [],
   "source": [
    "## Events for different realisations \n",
    "events_list = np.load('../Data/synthetic_experiments/training_datasets/events_list_MTSM_2.npy', allow_pickle=True,  encoding='latin1')\n",
    "intensities = np.load('../Data/synthetic_experiments/sample_intensity_MTSM_2.npy', allow_pickle=True,  encoding='latin1')\n",
    "\n",
    "## To compute perfomances\n",
    "pred_mean_MTSM = np.load('../Data/synthetic_experiments/pred_mean_MTSM_2.npy', allow_pickle=True,  encoding='latin1')\n",
    "pred_var_MTSM = np.load('../Data/synthetic_experiments/pred_var_MTSM_2.npy', allow_pickle=True,  encoding='latin1')\n",
    "latent_means = np.load('../Data/synthetic_experiments/latent_means_MTSM_2.npy', allow_pickle=True,  encoding='latin1')\n",
    "latent_vars = np.load('../Data/synthetic_experiments/latent_variances_MTSM_2.npy', allow_pickle=True,  encoding='latin1')\n",
    "alpha_final = np.load('../Data/synthetic_experiments/alpha_final_MTSM_2.npy', allow_pickle=True,  encoding='latin1')\n",
    "beta_final = np.load('../Data/synthetic_experiments/beta_final_MTSM_2.npy', allow_pickle=True,  encoding='latin1')\n",
    "samples_latent_function = np.load('../Data/synthetic_experiments/samples_latent_function_MTSM_2.npy', allow_pickle=True,  encoding='latin1')\n",
    "\n",
    "time_interations = np.load('../Data/synthetic_experiments/time_iterations_MTSM_2.npy', allow_pickle=True,  encoding='latin1')\n",
    "time_to_train_list_2 = np.load('../Data/synthetic_experiments/time_to_train_list_MTSM_2.npy', allow_pickle=True,  encoding='latin1')\n",
    "\n",
    "## To assess convergence\n",
    "nelbo = np.load('../Data/synthetic_experiments/nelbo_values_MTSM_2.npy', allow_pickle=True,  encoding='latin1')\n",
    "cross_entropy_U = np.load('../Data/synthetic_experiments/crossent_vector_MTSM_2.npy', allow_pickle=True,  encoding='latin1')\n",
    "entropy_U = np.load('../Data/synthetic_experiments/ent_vector_MTSM_2.npy', allow_pickle=True,  encoding='latin1')\n",
    "entropy_locations = np.load('../Data/synthetic_experiments/ent_x_m_vector_MTSM_2.npy', allow_pickle=True,  encoding='latin1')\n",
    "ell = np.load('../Data/synthetic_experiments/ell_vector_MTSM_2.npy', allow_pickle=True,  encoding='latin1')\n",
    "value_for_events_locations_vector = np.load('../Data/synthetic_experiments/value_for_events_locations_vector_MTSM_2.npy', allow_pickle=True,  encoding='latin1')\n",
    "value_for_thinned_events_vector = np.load('../Data/synthetic_experiments/value_for_thinned_events_vector_MTSM_2.npy', allow_pickle=True,  encoding='latin1')\n",
    "\n",
    "probabilities_mixture_vector = np.load('../Data/synthetic_experiments/probabilities_mixture_vector_MTSM_2.npy', allow_pickle=True,  encoding='latin1')\n",
    "means_mixture_vector = np.load('../Data/synthetic_experiments/means_mixture_vector_MTSM_2.npy', allow_pickle=True,  encoding='latin1')\n",
    "variances_mixture_vector = np.load('../Data/synthetic_experiments/variances_mixture_vector_MTSM_2.npy', allow_pickle=True,  encoding='latin1')\n",
    "value_expectation_vector = np.load('../Data/synthetic_experiments/value_expectation_vector_MTSM_2.npy', allow_pickle=True,  encoding='latin1')\n",
    "kl_lambda_max_vector = np.load('../Data/synthetic_experiments/kl_lambda_max_vector_MTSM_2.npy', allow_pickle=True,  encoding='latin1')"
   ]
  },
  {
   "cell_type": "code",
   "execution_count": 52,
   "metadata": {
    "hidden": true
   },
   "outputs": [],
   "source": [
    "## Discretise data for standard LGCP\n",
    "discrete_output_matrix2 = np.zeros(((tau_max*2),num_realisation))\n",
    "for p in range(num_realisation):\n",
    "    binned_count = np.histogram(events_list[p], bins=(tau_max*2), range=(0,tau_max)) \n",
    "    discrete_output_matrix2[:,p] = binned_count[0]\n",
    "    discrete_inputs2 = (binned_count[1] + 0.25)[:-1]\n",
    "true_number_events2 = np.sum(discrete_output_matrix2, axis =0)\n"
   ]
  },
  {
   "cell_type": "markdown",
   "metadata": {
    "heading_collapsed": true,
    "hidden": true
   },
   "source": [
    "## Import test data"
   ]
  },
  {
   "cell_type": "code",
   "execution_count": 37,
   "metadata": {
    "hidden": true
   },
   "outputs": [],
   "source": [
    "## Import test data\n",
    "test_data1 = np.loadtxt('../Data/synthetic_experiments/test_function2/test21.txt')\n",
    "test_data2 = np.loadtxt('../Data/synthetic_experiments/test_function2/test22.txt')\n",
    "test_data3 = np.loadtxt('../Data/synthetic_experiments/test_function2/test23.txt')\n",
    "test_data4 = np.loadtxt('../Data/synthetic_experiments/test_function2/test24.txt')\n",
    "test_data5 = np.loadtxt('../Data/synthetic_experiments/test_function2/test25.txt')\n",
    "test_data6 = np.loadtxt('../Data/synthetic_experiments/test_function2/test26.txt')\n",
    "test_data7 = np.loadtxt('../Data/synthetic_experiments/test_function2/test27.txt')\n",
    "test_data8 = np.loadtxt('../Data/synthetic_experiments/test_function2/test28.txt')\n",
    "test_data9 = np.loadtxt('../Data/synthetic_experiments/test_function2/test29.txt')\n",
    "test_data10 = np.loadtxt('../Data/synthetic_experiments/test_function2/test210.txt')\n",
    "test_data_list = [None]*10\n",
    "test_data_list[0] = test_data1\n",
    "test_data_list[1] = test_data2\n",
    "test_data_list[2] = test_data3\n",
    "test_data_list[3] = test_data4\n",
    "test_data_list[4] = test_data5\n",
    "test_data_list[5] = test_data6\n",
    "test_data_list[6] = test_data7\n",
    "test_data_list[7] = test_data8\n",
    "test_data_list[8] = test_data9\n",
    "test_data_list[9] = test_data10"
   ]
  },
  {
   "cell_type": "markdown",
   "metadata": {
    "heading_collapsed": true,
    "hidden": true
   },
   "source": [
    "## Performances"
   ]
  },
  {
   "cell_type": "code",
   "execution_count": 38,
   "metadata": {
    "hidden": true
   },
   "outputs": [],
   "source": [
    "## Compute L2\n",
    "x_test = np.linspace(0.0, 5.0, num=50)\n",
    "function2 = 5.*np.sin(x_test**2) + 6\n",
    "num_samples = 100"
   ]
  },
  {
   "cell_type": "code",
   "execution_count": 39,
   "metadata": {
    "hidden": true
   },
   "outputs": [
    {
     "name": "stdout",
     "output_type": "stream",
     "text": [
      "Mean L2 233.09369485019852\n"
     ]
    }
   ],
   "source": [
    "mse_vector_2 = metrics.compute_l_2(num_realisation, pred_mean_MTSM, function2, x_test)\n",
    "print('Mean L2', np.mean(mse_vector_2))"
   ]
  },
  {
   "cell_type": "code",
   "execution_count": 40,
   "metadata": {
    "hidden": true
   },
   "outputs": [
    {
     "name": "stdout",
     "output_type": "stream",
     "text": [
      "Mean lp -271.4337351506421\n"
     ]
    }
   ],
   "source": [
    "log_prob_tensor_2 = metrics.compute_lp(num_realisation, x_test, test_data_list, 'sigmoidal',\n",
    "                                     latent_means, latent_vars, alpha_final, beta_final)\n",
    "print('Mean lp', np.mean(log_prob_tensor_2))\n",
    "# print('Mean lp', log_prob_tensor)"
   ]
  },
  {
   "cell_type": "code",
   "execution_count": 41,
   "metadata": {
    "hidden": true
   },
   "outputs": [],
   "source": [
    "# Time per epoch\n",
    "# print('time per epoch', time_interations)\n",
    "# print('time full train', time_to_train_list)"
   ]
  },
  {
   "cell_type": "code",
   "execution_count": 42,
   "metadata": {
    "hidden": true
   },
   "outputs": [
    {
     "name": "stdout",
     "output_type": "stream",
     "text": [
      "Q_2 -3.231255160648205\n"
     ]
    }
   ],
   "source": [
    "Q_2_2 = metrics.compute_Q2(num_realisation, pred_mean_MTSM, function2)\n",
    "print('Q_2', np.mean(Q_2_2))"
   ]
  },
  {
   "cell_type": "code",
   "execution_count": 43,
   "metadata": {
    "hidden": true
   },
   "outputs": [
    {
     "name": "stdout",
     "output_type": "stream",
     "text": [
      "coverage 0.0\n"
     ]
    }
   ],
   "source": [
    "coverage_2, coverage_2_std, count_matrix_2 = metrics.compute_coverage_insample(num_realisation, num_samples, discrete_output_matrix2, x_test, \n",
    "                    latent_means, latent_vars, test_data_list, 'sigmoidal', alpha = alpha_final, beta = beta_final)\n",
    "print('coverage', coverage_2)\n",
    "\n"
   ]
  },
  {
   "cell_type": "code",
   "execution_count": 44,
   "metadata": {
    "hidden": true,
    "scrolled": true
   },
   "outputs": [
    {
     "name": "stdout",
     "output_type": "stream",
     "text": [
      "coverage (0.0, 0.0)\n"
     ]
    }
   ],
   "source": [
    "coverage_out_of_sample_2 = metrics.compute_coverage_out_sample(num_realisation, num_samples, discrete_output_matrix2, x_test, \n",
    "                    latent_means, latent_vars, test_data_list, 'sigmoidal', alpha = alpha_final, beta = beta_final)\n",
    "print('coverage', coverage_out_of_sample_2)\n",
    "\n"
   ]
  },
  {
   "cell_type": "code",
   "execution_count": 45,
   "metadata": {
    "hidden": true
   },
   "outputs": [
    {
     "name": "stdout",
     "output_type": "stream",
     "text": [
      "coverage_matrix_train_2 [[0.]\n",
      " [0.]\n",
      " [0.]\n",
      " [0.]\n",
      " [0.]]\n",
      "coverage_matrix_test_2 [[0.]\n",
      " [0.]\n",
      " [0.]\n",
      " [0.]\n",
      " [0.]]\n"
     ]
    }
   ],
   "source": [
    "level = np.array([10,20,30,40,50])\n",
    "coverage_matrix_train_2 = np.zeros((level.shape[0],1))\n",
    "coverage_matrix_train_2_std = np.zeros((level.shape[0],1))\n",
    "coverage_matrix_test_2 = np.zeros((level.shape[0],1))\n",
    "coverage_matrix_test_2_std = np.zeros((level.shape[0],1))\n",
    "for i in range(level.shape[0]):\n",
    "    coverage_matrix_train_2[i], coverage_matrix_train_2_std[i], _ = metrics.compute_coverage_insample(num_realisation, num_samples, discrete_output_matrix2, x_test, \n",
    "                    latent_means, latent_vars, test_data_list, 'sigmoidal', \n",
    "                alpha = alpha_final, beta = beta_final, credible_interval = level[i])\n",
    "    coverage_matrix_test_2[i], coverage_matrix_test_2_std[i] = metrics.compute_coverage_out_sample(num_realisation, num_samples, discrete_output_matrix2, x_test, \n",
    "                    latent_means, latent_vars, test_data_list, 'sigmoidal', \n",
    "                alpha = alpha_final, beta = beta_final, credible_interval = level[i])\n",
    "    \n",
    "print('coverage_matrix_train_2',coverage_matrix_train_2)\n",
    "print('coverage_matrix_test_2',coverage_matrix_test_2_std)\n",
    "\n"
   ]
  },
  {
   "cell_type": "code",
   "execution_count": 46,
   "metadata": {
    "hidden": true
   },
   "outputs": [
    {
     "name": "stdout",
     "output_type": "stream",
     "text": [
      "nlpl 63.50259930664163\n"
     ]
    }
   ],
   "source": [
    "nlpl_2, _ = metrics.compute_nlpl(x_test, num_realisation, latent_means, latent_vars, \n",
    "             test_data_list, 'sigmoidal', num_samples, alpha_final, beta_final)\n",
    "print('nlpl', np.mean(nlpl_2))"
   ]
  },
  {
   "cell_type": "markdown",
   "metadata": {
    "heading_collapsed": true,
    "hidden": true
   },
   "source": [
    "## Plots"
   ]
  },
  {
   "cell_type": "markdown",
   "metadata": {
    "hidden": true
   },
   "source": [
    "### Plot mean intensities"
   ]
  },
  {
   "cell_type": "code",
   "execution_count": 47,
   "metadata": {
    "hidden": true
   },
   "outputs": [],
   "source": [
    "##### Plot true intensities and estimated intensities \n",
    "length=6\n",
    "width=4\n",
    "markersize = 5\n",
    "trans_point = 0.3\n",
    "trans_line = 0.9\n",
    "col_true = 'dimgrey'\n",
    "col_mt = 'red'\n",
    "col_mt_gp = 'green'\n",
    "style_gp = '--'\n",
    "col_st = 'green'\n",
    "style_st = '--'\n",
    "col_pooling = \"darkviolet\"\n",
    "col_dots = 'black'\n",
    "col_icm = 'blue'\n",
    "style_icm = '--'\n",
    "lenght_interval = 2\n",
    "style_arrow = '|-|'\n",
    "style_data = 'o'\n",
    "face_color= 'none'\n",
    "color_interval = 'orange'\n",
    "color_events = 'black'\n",
    "color_our = 'red'\n",
    "color_adams = 'green'\n",
    "color_donner = 'blue'\n",
    "color_lloyds = 'orange'\n",
    "color_lgcp = 'magenta'\n",
    "\n",
    "\n",
    "font = {'color':  'black',\n",
    "        'weight': 'normal',\n",
    "        'size': 16,\n",
    "        }"
   ]
  },
  {
   "cell_type": "code",
   "execution_count": 48,
   "metadata": {
    "hidden": true
   },
   "outputs": [
    {
     "name": "stderr",
     "output_type": "stream",
     "text": [
      "No handles with labels found to put in legend.\n"
     ]
    },
    {
     "data": {
      "image/png": "[encoded data removed]",
      "text/plain": [
       "<Figure size 1080x504 with 10 Axes>"
      ]
     },
     "metadata": {
      "needs_background": "light"
     },
     "output_type": "display_data"
    }
   ],
   "source": [
    "f, axes = plt.subplots(2, 5)\n",
    "f.set_figheight(7)\n",
    "f.set_figwidth(15)\n",
    "f.subplots_adjust(hspace=0.20)\n",
    "f.subplots_adjust(wspace=0.3)\n",
    "for p in range(num_realisation):\n",
    "#for ax in axes.flat:\n",
    "    ax = axes.flat[p]\n",
    "    ax.xaxis.set_visible(True)\n",
    "    ax.tick_params(labelsize=11)\n",
    "    ax.spines['top'].set_visible(False)\n",
    "    ax.spines['right'].set_visible(False)\n",
    "    ax.tick_params(axis='y', labelsize=13)\n",
    "    ax.tick_params(axis='x', labelsize=7)\n",
    "    ## True intensity\n",
    "    ax.plot(inputs, intensities[0,:,0], '-', mew=2, color = col_true, markersize=4, alpha=trans_line, label = 'GT')\n",
    "    \n",
    "    ## Predictions\n",
    "    ax.scatter(events_list[p], np.repeat(0.,events_list[p].shape[0]), color = color_events, \n",
    "               marker = '|', label = 'Events')\n",
    "    \n",
    "    ax.plot(np.linspace(0.0, tau_max, num=50)[:,np.newaxis], pred_mean_MTSM[p], color = color_our, \n",
    "            label = 'OUR')\n",
    "    \n",
    "    \n",
    "plt.legend()\n",
    "\n",
    "plt.show()"
   ]
  },
  {
   "cell_type": "markdown",
   "metadata": {
    "hidden": true
   },
   "source": [
    "### Plot posterior count distributions"
   ]
  },
  {
   "cell_type": "code",
   "execution_count": 54,
   "metadata": {
    "hidden": true
   },
   "outputs": [
    {
     "data": {
      "image/png": "[encoded data removed]",
      "text/plain": [
       "<Figure size 1440x504 with 10 Axes>"
      ]
     },
     "metadata": {
      "needs_background": "light"
     },
     "output_type": "display_data"
    }
   ],
   "source": [
    "f, axes = plt.subplots(2, 5)\n",
    "#, sharex=True\n",
    "f.set_figheight(7)\n",
    "f.set_figwidth(20)\n",
    "f.subplots_adjust(hspace=0.20)\n",
    "f.subplots_adjust(wspace=0.3)\n",
    "sns.despine(left=True)\n",
    "\n",
    "for p in range(num_realisation):\n",
    "#for ax in axes.flat:\n",
    "    ax = axes.flat[p]\n",
    "    #plt.hist(count_matrix[:,0],bins = 20, histtype='barstacked')\n",
    "    sns.kdeplot(count_matrix_2[:,p], ax=ax, color = color_our, label = 'OUR')\n",
    "    ax.axvline(x=true_number_events2[p], color = 'black')\n",
    "\n",
    "\n",
    "## Latex Table"
   ]
  },
  {
   "cell_type": "markdown",
   "metadata": {
    "hidden": true
   },
   "source": [
    "### Save variables for aggregate plotting"
   ]
  },
  {
   "cell_type": "code",
   "execution_count": 55,
   "metadata": {
    "hidden": true
   },
   "outputs": [],
   "source": [
    "intensities_2 = intensities\n",
    "events_list_2 = events_list\n",
    "pred_mean_MTSM_2 = pred_mean_MTSM\n",
    "pred_var_MTSM_2 = pred_var_MTSM"
   ]
  },
  {
   "cell_type": "code",
   "execution_count": null,
   "metadata": {
    "hidden": true
   },
   "outputs": [],
   "source": []
  },
  {
   "cell_type": "markdown",
   "metadata": {
    "heading_collapsed": true
   },
   "source": [
    "# ----------------------------------- Function 3---------------------------------------\n"
   ]
  },
  {
   "cell_type": "code",
   "execution_count": 56,
   "metadata": {
    "hidden": true
   },
   "outputs": [],
   "source": [
    "num_realisation = 1\n",
    "tau_max = 100\n",
    "inputs = np.linspace(0., tau_max, num=200)[:, np.newaxis]\n",
    "folder = '../Data/synthetic_experiments/'"
   ]
  },
  {
   "cell_type": "markdown",
   "metadata": {
    "heading_collapsed": true,
    "hidden": true
   },
   "source": [
    "## Import data and prediction - Function 3"
   ]
  },
  {
   "cell_type": "code",
   "execution_count": 57,
   "metadata": {
    "hidden": true
   },
   "outputs": [],
   "source": [
    "## Events for different realisations \n",
    "events_list = np.load('../Data/synthetic_experiments/training_datasets/events_list_MTSM_3.npy', allow_pickle=True,  encoding='latin1')\n",
    "intensities = np.load('../Data/synthetic_experiments/sample_intensity_MTSM_3.npy', allow_pickle=True,  encoding='latin1')\n",
    "\n",
    "## To compute perfomances\n",
    "pred_mean_MTSM = np.load('../Data/synthetic_experiments/pred_mean_MTSM_3.npy', allow_pickle=True,  encoding='latin1')\n",
    "pred_var_MTSM = np.load('../Data/synthetic_experiments/pred_var_MTSM_3.npy', allow_pickle=True,  encoding='latin1')\n",
    "latent_means = np.load('../Data/synthetic_experiments/latent_means_MTSM_3.npy', allow_pickle=True,  encoding='latin1')\n",
    "latent_vars = np.load('../Data/synthetic_experiments/latent_variances_MTSM_3.npy', allow_pickle=True,  encoding='latin1')\n",
    "alpha_final = np.load('../Data/synthetic_experiments/alpha_final_MTSM_3.npy', allow_pickle=True,  encoding='latin1')\n",
    "beta_final = np.load('../Data/synthetic_experiments/beta_final_MTSM_3.npy', allow_pickle=True,  encoding='latin1')\n",
    "samples_latent_function = np.load('../Data/synthetic_experiments/samples_latent_function_MTSM_3.npy', allow_pickle=True,  encoding='latin1')\n",
    "\n",
    "time_interations = np.load('../Data/synthetic_experiments/time_iterations_MTSM_3.npy', allow_pickle=True,  encoding='latin1')\n",
    "time_to_train_list_3 = np.load('../Data/synthetic_experiments/time_to_train_list_MTSM_3.npy', allow_pickle=True,  encoding='latin1')\n",
    "\n",
    "## To assess convergence\n",
    "nelbo = np.load('../Data/synthetic_experiments/nelbo_values_MTSM_3.npy', allow_pickle=True,  encoding='latin1')\n",
    "cross_entropy_U = np.load('../Data/synthetic_experiments/crossent_vector_MTSM_3.npy', allow_pickle=True,  encoding='latin1')\n",
    "entropy_U = np.load('../Data/synthetic_experiments/ent_vector_MTSM_3.npy', allow_pickle=True,  encoding='latin1')\n",
    "entropy_locations = np.load('../Data/synthetic_experiments/ent_x_m_vector_MTSM_3.npy', allow_pickle=True,  encoding='latin1')\n",
    "ell = np.load('../Data/synthetic_experiments/ell_vector_MTSM_3.npy', allow_pickle=True,  encoding='latin1')\n",
    "value_for_events_locations_vector = np.load('../Data/synthetic_experiments/value_for_events_locations_vector_MTSM_3.npy', allow_pickle=True,  encoding='latin1')\n",
    "value_for_thinned_events_vector = np.load('../Data/synthetic_experiments/value_for_thinned_events_vector_MTSM_3.npy', allow_pickle=True,  encoding='latin1')\n",
    "\n",
    "probabilities_mixture_vector = np.load('../Data/synthetic_experiments/probabilities_mixture_vector_MTSM_3.npy', allow_pickle=True,  encoding='latin1')\n",
    "means_mixture_vector = np.load('../Data/synthetic_experiments/means_mixture_vector_MTSM_3.npy', allow_pickle=True,  encoding='latin1')\n",
    "variances_mixture_vector = np.load('../Data/synthetic_experiments/variances_mixture_vector_MTSM_3.npy', allow_pickle=True,  encoding='latin1')\n",
    "value_expectation_vector = np.load('../Data/synthetic_experiments/value_expectation_vector_MTSM_3.npy', allow_pickle=True,  encoding='latin1')\n",
    "kl_lambda_max_vector = np.load('../Data/synthetic_experiments/kl_lambda_max_vector_MTSM_3.npy', allow_pickle=True,  encoding='latin1')"
   ]
  },
  {
   "cell_type": "code",
   "execution_count": 59,
   "metadata": {
    "hidden": true
   },
   "outputs": [],
   "source": [
    "## Discretise data for standard LGCP\n",
    "discrete_output_matrix3 = np.zeros(((tau_max),num_realisation))\n",
    "for p in range(num_realisation):\n",
    "    binned_count = np.histogram(events_list[p], bins=(tau_max), range=(0,tau_max)) \n",
    "    discrete_output_matrix3[:,p] = binned_count[0]\n",
    "    discrete_inputs3 = (binned_count[1] + 0.5)[:-1]\n",
    "true_number_events3 = np.sum(discrete_output_matrix3, axis =0)\n"
   ]
  },
  {
   "cell_type": "markdown",
   "metadata": {
    "heading_collapsed": true,
    "hidden": true
   },
   "source": [
    "## Import test data"
   ]
  },
  {
   "cell_type": "code",
   "execution_count": 60,
   "metadata": {
    "hidden": true
   },
   "outputs": [],
   "source": [
    "test_data1 = np.loadtxt('../Data/synthetic_experiments/test_function3/test31.txt')\n",
    "test_data2 = np.loadtxt('../Data/synthetic_experiments/test_function3/test32.txt')\n",
    "test_data3 = np.loadtxt('../Data/synthetic_experiments/test_function3/test33.txt')\n",
    "test_data4 = np.loadtxt('../Data/synthetic_experiments/test_function3/test34.txt')\n",
    "test_data5 = np.loadtxt('../Data/synthetic_experiments/test_function3/test35.txt')\n",
    "test_data6 = np.loadtxt('../Data/synthetic_experiments/test_function3/test36.txt')\n",
    "test_data7 = np.loadtxt('../Data/synthetic_experiments/test_function3/test37.txt')\n",
    "test_data8 = np.loadtxt('../Data/synthetic_experiments/test_function3/test38.txt')\n",
    "test_data9 = np.loadtxt('../Data/synthetic_experiments/test_function3/test39.txt')\n",
    "test_data10 = np.loadtxt('../Data/synthetic_experiments/test_function3/test310.txt')\n",
    "test_data_list = [None]*10\n",
    "test_data_list[0] = test_data1\n",
    "test_data_list[1] = test_data2\n",
    "test_data_list[2] = test_data3\n",
    "test_data_list[3] = test_data4\n",
    "test_data_list[4] = test_data5\n",
    "test_data_list[5] = test_data6\n",
    "test_data_list[6] = test_data7\n",
    "test_data_list[7] = test_data8\n",
    "test_data_list[8] = test_data9\n",
    "test_data_list[9] = test_data10"
   ]
  },
  {
   "cell_type": "markdown",
   "metadata": {
    "heading_collapsed": true,
    "hidden": true
   },
   "source": [
    "##  Performances"
   ]
  },
  {
   "cell_type": "code",
   "execution_count": 61,
   "metadata": {
    "hidden": true
   },
   "outputs": [],
   "source": [
    "x_test = np.linspace(0.0, 100.0, num=50)\n",
    "x_interpolate = np.array((0, 25, 50, 75, 100))\n",
    "y_interpolate = np.array((2, 3, 1, 2.5, 3))\n",
    "function3 = np.interp(x_test, x_interpolate, y_interpolate)\n",
    "num_samples =1000"
   ]
  },
  {
   "cell_type": "code",
   "execution_count": 62,
   "metadata": {
    "hidden": true
   },
   "outputs": [
    {
     "name": "stdout",
     "output_type": "stream",
     "text": [
      "Mean L2 310.1994003732401\n"
     ]
    }
   ],
   "source": [
    "mse_vector_3 = metrics.compute_l_2(num_realisation, pred_mean_MTSM, function3, x_test)\n",
    "print('Mean L2', np.mean(mse_vector_3))"
   ]
  },
  {
   "cell_type": "code",
   "execution_count": 63,
   "metadata": {
    "hidden": true
   },
   "outputs": [
    {
     "name": "stdout",
     "output_type": "stream",
     "text": [
      "Mean lp -1782.119246550749\n"
     ]
    }
   ],
   "source": [
    "log_prob_tensor_3 = metrics.compute_lp(num_realisation, x_test, test_data_list, 'sigmoidal',\n",
    "                                     latent_means, latent_vars, alpha_final, beta_final)\n",
    "print('Mean lp', np.mean(log_prob_tensor_3))\n",
    "# print('Mean lp', log_prob_tensor)"
   ]
  },
  {
   "cell_type": "code",
   "execution_count": 64,
   "metadata": {
    "hidden": true
   },
   "outputs": [
    {
     "name": "stdout",
     "output_type": "stream",
     "text": [
      "Q_2 -8.996565812945088\n"
     ]
    }
   ],
   "source": [
    "Q_2_3 = metrics.compute_Q2(num_realisation, pred_mean_MTSM, function3)\n",
    "print('Q_2', np.mean(Q_2_3))"
   ]
  },
  {
   "cell_type": "code",
   "execution_count": 65,
   "metadata": {
    "hidden": true
   },
   "outputs": [
    {
     "name": "stdout",
     "output_type": "stream",
     "text": [
      "coverage 0.0\n"
     ]
    }
   ],
   "source": [
    "coverage_3,coverage_3_std, count_matrix_3 = metrics.compute_coverage_insample(num_realisation, num_samples, discrete_output_matrix3, x_test, \n",
    "                    latent_means, latent_vars, test_data_list, 'sigmoidal', alpha = alpha_final, beta = beta_final)\n",
    "print('coverage', coverage_3)\n",
    "\n"
   ]
  },
  {
   "cell_type": "code",
   "execution_count": 66,
   "metadata": {
    "hidden": true
   },
   "outputs": [
    {
     "name": "stdout",
     "output_type": "stream",
     "text": [
      "coverage (0.0, 0.0)\n"
     ]
    }
   ],
   "source": [
    "coverage_out_of_sample_3 = metrics.compute_coverage_out_sample(num_realisation, num_samples, discrete_output_matrix3, x_test, \n",
    "                    latent_means, latent_vars, test_data_list, 'sigmoidal', alpha = alpha_final, beta = beta_final)\n",
    "print('coverage', coverage_out_of_sample_3)\n"
   ]
  },
  {
   "cell_type": "code",
   "execution_count": 67,
   "metadata": {
    "hidden": true
   },
   "outputs": [
    {
     "name": "stdout",
     "output_type": "stream",
     "text": [
      "nlpl 195.91458432166974\n"
     ]
    }
   ],
   "source": [
    "nlpl_3, _ = metrics.compute_nlpl(x_test, num_realisation, latent_means, latent_vars, \n",
    "             test_data_list, 'sigmoidal', num_samples,  alpha_final, beta_final)\n",
    "print('nlpl', np.mean(nlpl_3))"
   ]
  },
  {
   "cell_type": "code",
   "execution_count": 68,
   "metadata": {
    "hidden": true
   },
   "outputs": [],
   "source": [
    "level = np.array([10,20,30,40,50])\n",
    "coverage_matrix_train_3 = np.zeros((level.shape[0],1))\n",
    "coverage_matrix_train_3_std = np.zeros((level.shape[0],1))\n",
    "coverage_matrix_test_3 = np.zeros((level.shape[0],1))\n",
    "coverage_matrix_test_3_std = np.zeros((level.shape[0],1))\n",
    "for i in range(level.shape[0]):\n",
    "    coverage_matrix_train_3[i], coverage_matrix_train_3_std[i], _ = metrics.compute_coverage_insample(num_realisation, num_samples, discrete_output_matrix3, x_test, \n",
    "                    latent_means, latent_vars, test_data_list, 'sigmoidal', \n",
    "                alpha = alpha_final, beta = beta_final, credible_interval = level[i])\n",
    "    coverage_matrix_test_3[i], coverage_matrix_test_3_std[i] = metrics.compute_coverage_out_sample(num_realisation, num_samples, discrete_output_matrix3, x_test, \n",
    "                    latent_means, latent_vars, test_data_list, 'sigmoidal', \n",
    "                alpha = alpha_final, beta = beta_final, credible_interval = level[i])\n",
    "    \n",
    "        "
   ]
  },
  {
   "cell_type": "code",
   "execution_count": 69,
   "metadata": {
    "hidden": true
   },
   "outputs": [
    {
     "name": "stdout",
     "output_type": "stream",
     "text": [
      "coverage_matrix_train_3 [[0.]\n",
      " [0.]\n",
      " [0.]\n",
      " [0.]\n",
      " [0.]]\n",
      "coverage_matrix_test_3 [[0.]\n",
      " [0.]\n",
      " [0.]\n",
      " [0.]\n",
      " [0.]]\n"
     ]
    }
   ],
   "source": [
    "print('coverage_matrix_train_3',coverage_matrix_train_3)\n",
    "print('coverage_matrix_test_3',coverage_matrix_test_3_std)\n"
   ]
  },
  {
   "cell_type": "markdown",
   "metadata": {
    "heading_collapsed": true,
    "hidden": true
   },
   "source": [
    "## Plots"
   ]
  },
  {
   "cell_type": "markdown",
   "metadata": {
    "hidden": true
   },
   "source": [
    "### Plot mean intensities"
   ]
  },
  {
   "cell_type": "code",
   "execution_count": 70,
   "metadata": {
    "hidden": true
   },
   "outputs": [],
   "source": [
    "tau_max = 100"
   ]
  },
  {
   "cell_type": "code",
   "execution_count": 71,
   "metadata": {
    "hidden": true
   },
   "outputs": [],
   "source": [
    "##### Figure 1 - Normal prior\n",
    "length=6\n",
    "width=4\n",
    "markersize = 5\n",
    "trans_point = 0.3\n",
    "trans_line = 0.9\n",
    "col_true = 'dimgrey'\n",
    "col_mt = 'red'\n",
    "col_mt_gp = 'green'\n",
    "style_gp = '--'\n",
    "col_st = 'green'\n",
    "style_st = '--'\n",
    "col_pooling = \"darkviolet\"\n",
    "col_dots = 'black'\n",
    "col_icm = 'blue'\n",
    "style_icm = '--'\n",
    "lenght_interval = 2\n",
    "style_arrow = '|-|'\n",
    "style_data = 'o'\n",
    "face_color= 'none'\n",
    "color_interval = 'orange'\n",
    "color_events = 'black'\n",
    "color_our = 'red'\n",
    "color_adams = 'green'\n",
    "color_donner = 'blue'\n",
    "color_lloyds = 'orange'\n",
    "color_lgcp = 'magenta'\n",
    "\n",
    "font = {'color':  'black',\n",
    "        'weight': 'normal',\n",
    "        'size': 16,\n",
    "        }"
   ]
  },
  {
   "cell_type": "code",
   "execution_count": 72,
   "metadata": {
    "hidden": true
   },
   "outputs": [
    {
     "name": "stderr",
     "output_type": "stream",
     "text": [
      "No handles with labels found to put in legend.\n"
     ]
    },
    {
     "data": {
      "image/png": "[encoded data removed]",
      "text/plain": [
       "<Figure size 1080x504 with 10 Axes>"
      ]
     },
     "metadata": {
      "needs_background": "light"
     },
     "output_type": "display_data"
    }
   ],
   "source": [
    "f, axes = plt.subplots(2, 5)\n",
    "f.set_figheight(7)\n",
    "f.set_figwidth(15)\n",
    "f.subplots_adjust(hspace=0.20)\n",
    "f.subplots_adjust(wspace=0.3)\n",
    "for p in range(num_realisation):\n",
    "#for ax in axes.flat:\n",
    "    ax = axes.flat[p]\n",
    "    ax.xaxis.set_visible(True)\n",
    "    ax.tick_params(labelsize=11)\n",
    "    ax.spines['top'].set_visible(False)\n",
    "    ax.spines['right'].set_visible(False)\n",
    "    ax.tick_params(axis='y', labelsize=13)\n",
    "    ax.tick_params(axis='x', labelsize=7)\n",
    "    ## True intensity\n",
    "    ax.plot(np.linspace(0.0, tau_max, num=200)[:,np.newaxis], intensities[0,:,0], '-', mew=2, color = col_true, markersize=4, alpha=trans_line, label = 'GT')\n",
    "    \n",
    "    ## Predictions\n",
    "    ax.scatter(events_list[p], np.repeat(0.,events_list[p].shape[0]), color = color_events, \n",
    "               marker = '|', label = 'Events')\n",
    "    \n",
    "    ax.plot(np.linspace(0.0, tau_max, num=50)[:,np.newaxis], pred_mean_MTSM[p], color = color_our, \n",
    "            label = 'OUR')\n",
    "    \n",
    "    \n",
    "\n",
    "plt.legend()\n",
    "\n",
    "plt.show()"
   ]
  },
  {
   "cell_type": "markdown",
   "metadata": {
    "hidden": true
   },
   "source": [
    "### Plot posterior count distribution"
   ]
  },
  {
   "cell_type": "code",
   "execution_count": 75,
   "metadata": {
    "hidden": true
   },
   "outputs": [
    {
     "data": {
      "image/png": "[encoded data removed]",
      "text/plain": [
       "<Figure size 1440x504 with 10 Axes>"
      ]
     },
     "metadata": {
      "needs_background": "light"
     },
     "output_type": "display_data"
    }
   ],
   "source": [
    "f, axes = plt.subplots(2, 5)\n",
    "#, sharex=True\n",
    "f.set_figheight(7)\n",
    "f.set_figwidth(20)\n",
    "f.subplots_adjust(hspace=0.20)\n",
    "f.subplots_adjust(wspace=0.3)\n",
    "sns.despine(left=True)\n",
    "\n",
    "for p in range(num_realisation):\n",
    "    ax = axes.flat[p]\n",
    "    sns.kdeplot(count_matrix_3[:,p], ax=ax, color = color_our, label = 'OUR')\n",
    "    ax.axvline(x=true_number_events3[p], color = 'black')\n"
   ]
  },
  {
   "cell_type": "markdown",
   "metadata": {
    "hidden": true
   },
   "source": [
    "### Save variables for aggregate plots"
   ]
  },
  {
   "cell_type": "code",
   "execution_count": 76,
   "metadata": {
    "hidden": true
   },
   "outputs": [],
   "source": [
    "intensities_3 = intensities\n",
    "events_list_3 = events_list\n",
    "pred_mean_MTSM_3 = pred_mean_MTSM\n",
    "pred_var_MTSM_3 = pred_var_MTSM"
   ]
  },
  {
   "cell_type": "markdown",
   "metadata": {
    "heading_collapsed": true
   },
   "source": [
    "# --------------------------------Aggregate results----------------------------------\n",
    "\n"
   ]
  },
  {
   "cell_type": "code",
   "execution_count": 78,
   "metadata": {
    "hidden": true
   },
   "outputs": [],
   "source": [
    "num_functions = 3"
   ]
  },
  {
   "cell_type": "code",
   "execution_count": 79,
   "metadata": {
    "hidden": true
   },
   "outputs": [],
   "source": [
    "##### Aggregate predictions\n",
    "length=6\n",
    "width=4\n",
    "markersize = 5\n",
    "trans_point = 0.3\n",
    "trans_line = 0.5\n",
    "col_true = 'black'\n",
    "col_mt = 'red'\n",
    "col_mt_gp = 'green'\n",
    "style_gp = '--'\n",
    "col_st = 'green'\n",
    "style_st = '--'\n",
    "col_pooling = \"darkviolet\"\n",
    "col_dots = 'black'\n",
    "col_icm = 'blue'\n",
    "style_icm = '--'\n",
    "lenght_interval = 2\n",
    "style_arrow = '|-|'\n",
    "style_data = 'o'\n",
    "face_color= 'none'\n",
    "color_interval = 'orange'\n",
    "color_events = 'black'\n",
    "color_our = 'black'\n",
    "#color_adams = 'green'\n",
    "color_adams = 'blue'\n",
    "#color_donner = 'blue'\n",
    "color_donner = 'red'\n",
    "color_lloyds = 'orange'\n",
    "color_lgcp = 'magenta'\n",
    "\n",
    "linewidth_our=3\n",
    "\n",
    "font = {'color':  'black',\n",
    "        'weight': 'normal',\n",
    "        'size': 16,\n",
    "        }"
   ]
  },
  {
   "cell_type": "code",
   "execution_count": 81,
   "metadata": {
    "hidden": true
   },
   "outputs": [
    {
     "data": {
      "image/png": "[encoded data removed]",
      "text/plain": [
       "<Figure size 1080x360 with 3 Axes>"
      ]
     },
     "metadata": {
      "needs_background": "light"
     },
     "output_type": "display_data"
    }
   ],
   "source": [
    "num_functions = 3\n",
    "f, ((ax1, ax2, ax3)) = plt.subplots(1, num_functions)\n",
    "f.set_figheight(5)\n",
    "f.set_figwidth(15)\n",
    "f.subplots_adjust(hspace=0.20)\n",
    "f.subplots_adjust(wspace=0.15)\n",
    "\n",
    "######################################################################\n",
    "\n",
    "########################### First function\n",
    "ax1.tick_params(labelsize=11)\n",
    "ax1.spines['top'].set_visible(False)\n",
    "ax1.spines['right'].set_visible(False)\n",
    "ax1.tick_params(axis='y', labelsize=13)\n",
    "ax1.tick_params(axis='x', labelsize=13)\n",
    "ax1.set_yticks([0,0.5, 1,1.5, 2])\n",
    "\n",
    "num_realisation_1 = 0\n",
    "\n",
    "ax1.plot(np.linspace(0.0,50 , num=200)[:,np.newaxis], intensities_1[0,:,0], '-', mew=2, \n",
    "         color = col_true, markersize=4, alpha=trans_line, label = 'GT')\n",
    "    \n",
    "## Predictions\n",
    "ax1.scatter(events_list_1[num_realisation_1], np.repeat(0.,events_list_1[num_realisation_1].shape[0]), \n",
    "            color = color_events, \n",
    "               marker = '|', label = 'Events')\n",
    "    \n",
    "ax1.plot(np.linspace(0.0, 50, num=50)[:,np.newaxis], pred_mean_MTSM_1[num_realisation_1], color = color_our, \n",
    "            label = 'OUR', linewidth= linewidth_our)\n",
    "ax1.fill_between(np.linspace(0.0, 50, num=50), \n",
    "                    (pred_mean_MTSM_1[num_realisation_1,:,0] + np.sqrt(pred_var_MTSM_1)[num_realisation_1,:,0]),\n",
    "                 (pred_mean_MTSM_1[num_realisation_1,:,0] - np.sqrt(pred_var_MTSM_1)[num_realisation_1,:,0]), \n",
    "                    color=color_our, alpha='0.4')\n",
    "    \n",
    "######################################################################\n",
    "\n",
    "########################### Second function\n",
    "ax2.tick_params(labelsize=11)\n",
    "ax2.spines['top'].set_visible(False)\n",
    "ax2.spines['right'].set_visible(False)\n",
    "ax2.tick_params(axis='y', labelsize=13)\n",
    "ax2.tick_params(axis='x', labelsize=13)\n",
    "ax2.set_yticks([0.0,2.5,5.0,7.5,10.0])\n",
    "\n",
    "num_realisation_2 = 0\n",
    "\n",
    "ax2.plot(np.linspace(0.0, 5, num=200)[:,np.newaxis], intensities_2[0,:,0], '-', mew=2, \n",
    "         color = col_true, markersize=4, alpha=trans_line, label = 'GT')\n",
    "    \n",
    "## Predictions\n",
    "ax2.scatter(events_list_2[num_realisation_2], np.repeat(0.,events_list_2[num_realisation_2].shape[0]), \n",
    "            color = color_events, \n",
    "               marker = '|', label = 'Events')\n",
    "    \n",
    "ax2.plot(np.linspace(0.0, 5, num=50)[:,np.newaxis], pred_mean_MTSM_2[num_realisation_2], color = color_our, \n",
    "            label = 'OUR',linewidth= linewidth_our)\n",
    "ax2.fill_between(np.linspace(0.0, 5, num=50), \n",
    "                    (pred_mean_MTSM_2[num_realisation_2,:,0] + np.sqrt(pred_var_MTSM_2)[num_realisation_2,:,0]),\n",
    "                 (pred_mean_MTSM_2[num_realisation_2,:,0] - np.sqrt(pred_var_MTSM_2)[num_realisation_2,:,0]), \n",
    "                    color=color_our, alpha='0.4')\n",
    "\n",
    "\n",
    "######################################################################\n",
    "\n",
    "########################### Third function\n",
    "ax3.tick_params(labelsize=1)\n",
    "ax3.spines['top'].set_visible(False)\n",
    "ax3.spines['right'].set_visible(False)\n",
    "ax3.tick_params(axis='y', labelsize=13)\n",
    "ax3.tick_params(axis='x', labelsize=13)\n",
    "ax3.set_yticks([0.0,0.7,1.4,2.1, 2.8])\n",
    "\n",
    "num_realisation_3 = 0\n",
    "\n",
    "ax3.plot(np.linspace(0.0, 100, num=200)[:,np.newaxis], intensities_3[0,:,0], '-', mew=2, \n",
    "         color = col_true, markersize=4, alpha=trans_line, label = 'Ground truth')\n",
    "    \n",
    "## Predictions\n",
    "ax3.scatter(events_list_3[num_realisation_3], np.repeat(0.,events_list_3[num_realisation_3].shape[0]), \n",
    "            color = color_events, \n",
    "               marker = '|', label = 'Events')\n",
    "    \n",
    "ax3.plot(np.linspace(0.0, 100, num=50)[:,np.newaxis], pred_mean_MTSM_3[num_realisation_3], color = color_our, \n",
    "            label = 'STVB', linewidth= linewidth_our)\n",
    "ax3.fill_between(np.linspace(0.0, 100, num=50), \n",
    "                    (pred_mean_MTSM_3[num_realisation_3,:,0] + np.sqrt(pred_var_MTSM_1)[num_realisation_3,:,0]),\n",
    "                 (pred_mean_MTSM_3[num_realisation_3,:,0] - np.sqrt(pred_var_MTSM_1)[num_realisation_3,:,0]), \n",
    "                    color=color_our, alpha='0.4')\n",
    "\n",
    "\n",
    "######################################################################\n",
    "bbox_props = dict(boxstyle=\"round,pad=0.3\", fc=\"white\", ec=\"black\", lw=0.5)\n",
    "\n",
    "\n",
    "plt.text(-1.0, 0.3,r\"$\\lambda_3(x)$\", fontdict=font,bbox=bbox_props )\n",
    "plt.text(-127.0, 0.3,r\"$\\lambda_2(x)$\", fontdict=font,bbox=bbox_props )\n",
    "plt.text(-254.0, 0.3,r\"$\\lambda_1(x)$\", fontdict=font,bbox=bbox_props )\n",
    "\n",
    "ax1.set_xlabel(r\"$x$\", fontdict=font)\n",
    "ax2.set_xlabel(r\"$x$\", fontdict=font)\n",
    "ax3.set_xlabel(r\"$x$\", fontdict=font)\n",
    "ax1.set_ylabel(r\"$\\lambda(x)$\", fontdict=font)\n",
    "\n",
    "###################\n",
    "\n",
    "plt.legend(loc='best', bbox_to_anchor=(0.5, 0., 0.5, 0.5),prop={'size': 10})\n",
    "\n",
    "plt.show()"
   ]
  },
  {
   "cell_type": "code",
   "execution_count": null,
   "metadata": {
    "hidden": true
   },
   "outputs": [],
   "source": []
  },
  {
   "cell_type": "code",
   "execution_count": null,
   "metadata": {
    "hidden": true
   },
   "outputs": [],
   "source": []
  },
  {
   "cell_type": "code",
   "execution_count": null,
   "metadata": {
    "hidden": true
   },
   "outputs": [],
   "source": []
  }
 ],
 "metadata": {
  "kernelspec": {
   "display_name": "Python 3",
   "language": "python",
   "name": "python3"
  },
  "language_info": {
   "codemirror_mode": {
    "name": "ipython",
    "version": 3
   },
   "file_extension": ".py",
   "mimetype": "text/x-python",
   "name": "python",
   "nbconvert_exporter": "python",
   "pygments_lexer": "ipython3",
   "version": "3.7.3"
  }
 },
 "nbformat": 4,
 "nbformat_minor": 2
}
