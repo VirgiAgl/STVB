{
 "cells": [
  {
   "cell_type": "code",
   "execution_count": 1,
   "metadata": {},
   "outputs": [
    {
     "name": "stdout",
     "output_type": "stream",
     "text": [
      "\n",
      "WARNING: The TensorFlow contrib module will not be included in TensorFlow 2.0.\n",
      "For more information, please see:\n",
      "  * https://github.com/tensorflow/community/blob/master/rfcs/20180907-contrib-sunset.md\n",
      "  * https://github.com/tensorflow/addons\n",
      "If you depend on functionality not listed there, please file an issue.\n",
      "\n",
      "Importing Jupyter notebook from Performance_metrics.ipynb\n"
     ]
    }
   ],
   "source": [
    "import numpy as np\n",
    "import scipy \n",
    "import random\n",
    "import math\n",
    "import csv\n",
    "from scipy.stats import poisson \n",
    "from scipy.integrate import quad\n",
    "import sklearn.metrics.pairwise as sk\n",
    "import tensorflow as tf\n",
    "import tensorflow_probability as tfp\n",
    "from scipy.spatial import distance\n",
    "from matplotlib import pyplot as plt\n",
    "import sklearn.gaussian_process.kernels as kern\n",
    "import pandas as pd\n",
    "import scipy.io\n",
    "from tabulate import _table_formats, tabulate\n",
    "import seaborn as sns  # for nicer graphics\n",
    "import warnings\n",
    "import nbimporter\n",
    "import Performance_metrics as metrics\n",
    "import pyproj \n",
    "warnings.simplefilter(action='ignore', category=FutureWarning)\n",
    "from matplotlib.ticker import FormatStrFormatter\n",
    "from mpl_toolkits.mplot3d import Axes3D"
   ]
  },
  {
   "cell_type": "markdown",
   "metadata": {
    "heading_collapsed": true
   },
   "source": [
    "## Import data"
   ]
  },
  {
   "cell_type": "code",
   "execution_count": 10,
   "metadata": {
    "hidden": true
   },
   "outputs": [],
   "source": [
    "events = np.load('../Data/taxi_data_time/xtrain_time.npy')"
   ]
  },
  {
   "cell_type": "code",
   "execution_count": 12,
   "metadata": {
    "hidden": true
   },
   "outputs": [
    {
     "data": {
      "text/plain": [
       "<matplotlib.collections.PathCollection at 0x1c2decaac8>"
      ]
     },
     "execution_count": 12,
     "metadata": {},
     "output_type": "execute_result"
    },
    {
     "data": {
      "image/png": "[encoded data removed]",
      "text/plain": [
       "<Figure size 432x288 with 1 Axes>"
      ]
     },
     "metadata": {
      "needs_background": "light"
     },
     "output_type": "display_data"
    }
   ],
   "source": [
    "plt.scatter(events[:,0], events[:,1])"
   ]
  },
  {
   "cell_type": "code",
   "execution_count": 14,
   "metadata": {
    "hidden": true
   },
   "outputs": [],
   "source": [
    "size_x_dim = max(events[:,0]) - min(events[:,0])\n",
    "size_y_dim = max(events[:,1]) - min(events[:,1])\n",
    "size_z_dim = max(events[:,2]) - min(events[:,2])"
   ]
  },
  {
   "cell_type": "code",
   "execution_count": 15,
   "metadata": {
    "hidden": true
   },
   "outputs": [
    {
     "name": "stdout",
     "output_type": "stream",
     "text": [
      "area 45.10961525135686\n"
     ]
    }
   ],
   "source": [
    "area = size_x_dim*size_y_dim*size_z_dim\n",
    "print('area', area)"
   ]
  },
  {
   "cell_type": "code",
   "execution_count": 19,
   "metadata": {
    "hidden": true
   },
   "outputs": [],
   "source": [
    "num_grid_points = 20\n",
    "X_grid = np.empty([num_grid_points, 3])\n",
    "X_grid[:, 0] = np.linspace(min(events[:,0]), max(events[:,0]), num_grid_points)\n",
    "X_grid[:, 1] = np.linspace(min(events[:,1]), max(events[:,1]), num_grid_points)\n",
    "X_grid[:, 2] = np.linspace(min(events[:,2]), max(events[:,2]), num_grid_points)\n",
    "X_mesh, Y_mesh, Z_mesh = np.meshgrid(X_grid[:, 0],X_grid[:, 1],X_grid[:, 2])\n",
    "X_vec = X_grid\n",
    "x_test = np.vstack([X_mesh.flatten(),Y_mesh.flatten(), Z_mesh.flatten()]).T\n"
   ]
  },
  {
   "cell_type": "code",
   "execution_count": 17,
   "metadata": {
    "hidden": true
   },
   "outputs": [],
   "source": [
    "region_bounds = np.array([[min(events[:,0]), max(events[:,0])],\n",
    "                         [min(events[:,1]), max(events[:,1])],\n",
    "                         [min(events[:,2]), max(events[:,2])]], dtype = np.float32)"
   ]
  },
  {
   "cell_type": "code",
   "execution_count": 18,
   "metadata": {
    "hidden": true
   },
   "outputs": [],
   "source": [
    "tau_region_size = np.prod(region_bounds[:,1] - region_bounds[:,0])[np.newaxis]\n",
    "area_cell = (X_grid[1,0] - X_grid[0,0])*(X_grid[1,1] - X_grid[0,1])*(X_grid[1,2] - X_grid[0,2])"
   ]
  },
  {
   "cell_type": "markdown",
   "metadata": {
    "heading_collapsed": true
   },
   "source": [
    "## Import results \n"
   ]
  },
  {
   "cell_type": "code",
   "execution_count": 20,
   "metadata": {
    "hidden": true
   },
   "outputs": [],
   "source": [
    "pred_mean_MTSM = np.load('../Data/taxi_data_time/pred_mean_MTSM_6.npy')\n",
    "pred_var_MTSM = np.load('../Data/taxi_data_time/pred_var_MTSM_6.npy')\n",
    "latent_means = np.load('../Data/taxi_data_time/latent_means_MTSM_6.npy')\n",
    "latent_vars = np.load('../Data/taxi_data_time/latent_variances_MTSM_6.npy')\n",
    "alpha_final = np.load('../Data/taxi_data_time/alpha_final_MTSM_6.npy')\n",
    "beta_final = np.load('../Data/taxi_data_time/beta_final_MTSM_6.npy')\n",
    "samples_latent_function = np.load('../Data/taxi_data_time/samples_latent_function_MTSM_6.npy')\n",
    "\n",
    "time_interations = np.load('../Data/taxi_data_time/time_iterations_MTSM_6.npy')\n",
    "time_to_train_list = np.load('../Data/taxi_data_time/time_to_train_list_MTSM_6.npy')\n",
    "\n",
    "## To assess convergence\n",
    "nelbo = np.load('../Data/taxi_data_time/nelbo_values_MTSM_6.npy')\n",
    "cross_entropy_U = np.load('../Data/taxi_data_time/crossent_vector_MTSM_6.npy')\n",
    "entropy_U = np.load('../Data/taxi_data_time/ent_vector_MTSM_6.npy')\n",
    "entropy_locations = np.load('../Data/taxi_data_time/ent_x_m_vector_MTSM_6.npy')\n",
    "ell = np.load('../Data/taxi_data_time/ell_vector_MTSM_6.npy')\n",
    "value_for_events_locations_vector = np.load('../Data/taxi_data_time/value_for_events_locations_vector_MTSM_6.npy')\n",
    "value_for_thinned_events_vector = np.load('../Data/taxi_data_time/value_for_thinned_events_vector_MTSM_6.npy')\n",
    "\n",
    "probabilities_mixture_vector = np.load('../Data/taxi_data_time/probabilities_mixture_vector_MTSM_6.npy')\n",
    "means_mixture_vector = np.load('../Data/taxi_data_time/means_mixture_vector_MTSM_6.npy')\n",
    "variances_mixture_vector = np.load('../Data/taxi_data_time/variances_mixture_vector_MTSM_6.npy')\n",
    "value_expectation_vector = np.load('../Data/taxi_data_time/value_expectation_vector_MTSM_6.npy')\n",
    "kl_lambda_max_vector = np.load('../Data/taxi_data_time/kl_lambda_max_vector_MTSM_6.npy')"
   ]
  },
  {
   "cell_type": "markdown",
   "metadata": {
    "heading_collapsed": true
   },
   "source": [
    "## Performance"
   ]
  },
  {
   "cell_type": "code",
   "execution_count": 22,
   "metadata": {
    "hidden": true
   },
   "outputs": [
    {
     "name": "stdout",
     "output_type": "stream",
     "text": [
      "nlpl 90872.31226480754\n",
      "l_test -9103568.78352395\n"
     ]
    }
   ],
   "source": [
    "num_samples = 100\n",
    "\n",
    "nlpl_mean, nlpl_std = metrics.compute_nlpl(x_test, 1, latent_means, latent_vars, \n",
    "             xtrain, 'sigmoidal', num_samples, alpha_final, beta_final, area_cell = area, code = 'Py', dim = 2)\n",
    "print('nlpl', nlpl_mean)\n",
    "\n",
    "l_test_mean, l_test_std = metrics.compute_l_test(1, x_test, x_test, \n",
    "               'sigmoidal', num_samples, area, latent_means = latent_means, latent_vars = latent_vars, \n",
    "               alpha = alpha_final, beta = beta_final,\n",
    "                dim = 2, code ='Py')\n",
    "print('l_test', l_test_mean)\n",
    "\n",
    "        "
   ]
  },
  {
   "cell_type": "markdown",
   "metadata": {
    "heading_collapsed": true
   },
   "source": [
    "## Plots"
   ]
  },
  {
   "cell_type": "markdown",
   "metadata": {
    "hidden": true
   },
   "source": [
    "### Counts distributions "
   ]
  },
  {
   "cell_type": "code",
   "execution_count": 23,
   "metadata": {
    "hidden": true
   },
   "outputs": [
    {
     "ename": "NameError",
     "evalue": "name 'levels' is not defined",
     "output_type": "error",
     "traceback": [
      "\u001b[0;31m---------------------------------------------------------------------------\u001b[0m",
      "\u001b[0;31mNameError\u001b[0m                                 Traceback (most recent call last)",
      "\u001b[0;32m<ipython-input-23-b2d2356e2d73>\u001b[0m in \u001b[0;36m<module>\u001b[0;34m\u001b[0m\n\u001b[1;32m      3\u001b[0m \u001b[0mcount_matrix_our_train\u001b[0m \u001b[0;34m=\u001b[0m \u001b[0mnp\u001b[0m\u001b[0;34m.\u001b[0m\u001b[0mzeros\u001b[0m\u001b[0;34m(\u001b[0m\u001b[0;34m(\u001b[0m\u001b[0mnum_samples\u001b[0m\u001b[0;34m,\u001b[0m \u001b[0mn_seeds\u001b[0m\u001b[0;34m)\u001b[0m\u001b[0;34m)\u001b[0m\u001b[0;34m\u001b[0m\u001b[0;34m\u001b[0m\u001b[0m\n\u001b[1;32m      4\u001b[0m \u001b[0mtrue_number_events\u001b[0m \u001b[0;34m=\u001b[0m \u001b[0mxtrain\u001b[0m\u001b[0;34m.\u001b[0m\u001b[0mshape\u001b[0m\u001b[0;34m[\u001b[0m\u001b[0;36m0\u001b[0m\u001b[0;34m]\u001b[0m\u001b[0;34m\u001b[0m\u001b[0;34m\u001b[0m\u001b[0m\n\u001b[0;32m----> 5\u001b[0;31m \u001b[0mcoverage\u001b[0m \u001b[0;34m=\u001b[0m \u001b[0mnp\u001b[0m\u001b[0;34m.\u001b[0m\u001b[0mzeros\u001b[0m\u001b[0;34m(\u001b[0m\u001b[0;34m(\u001b[0m\u001b[0mlevels\u001b[0m\u001b[0;34m.\u001b[0m\u001b[0mshape\u001b[0m\u001b[0;34m[\u001b[0m\u001b[0;36m0\u001b[0m\u001b[0;34m]\u001b[0m\u001b[0;34m,\u001b[0m\u001b[0mn_seeds\u001b[0m\u001b[0;34m)\u001b[0m\u001b[0;34m)\u001b[0m\u001b[0;34m\u001b[0m\u001b[0;34m\u001b[0m\u001b[0m\n\u001b[0m\u001b[1;32m      6\u001b[0m \u001b[0;32mfor\u001b[0m \u001b[0mj\u001b[0m \u001b[0;32min\u001b[0m \u001b[0mrange\u001b[0m\u001b[0;34m(\u001b[0m\u001b[0mlevels\u001b[0m\u001b[0;34m.\u001b[0m\u001b[0mshape\u001b[0m\u001b[0;34m[\u001b[0m\u001b[0;36m0\u001b[0m\u001b[0;34m]\u001b[0m\u001b[0;34m)\u001b[0m\u001b[0;34m:\u001b[0m\u001b[0;34m\u001b[0m\u001b[0;34m\u001b[0m\u001b[0m\n\u001b[1;32m      7\u001b[0m     \u001b[0;32mfor\u001b[0m \u001b[0ms\u001b[0m \u001b[0;32min\u001b[0m \u001b[0mrange\u001b[0m\u001b[0;34m(\u001b[0m\u001b[0mn_seeds\u001b[0m\u001b[0;34m)\u001b[0m\u001b[0;34m:\u001b[0m\u001b[0;34m\u001b[0m\u001b[0;34m\u001b[0m\u001b[0m\n",
      "\u001b[0;31mNameError\u001b[0m: name 'levels' is not defined"
     ]
    }
   ],
   "source": [
    "num_samples = 100\n",
    "n_seeds = 100\n",
    "count_matrix_our_train = np.zeros((num_samples, n_seeds))\n",
    "true_number_events = xtrain.shape[0]\n",
    "coverage = np.zeros((levels.shape[0],n_seeds))\n",
    "for j in range(levels.shape[0]):\n",
    "    for s in range(n_seeds):\n",
    "        #print('seed', s)\n",
    "        np.random.seed(s + j)\n",
    "        for i in range(num_samples):\n",
    "            #print('i', i)\n",
    "            lambda_max = np.random.gamma(alpha_final, 1/(beta_final))\n",
    "            latent_function = latent_means + np.sqrt(latent_vars)*np.random.normal(0, 1)\n",
    "            intensity = (lambda_max*metrics.sigmoidal(latent_function))[0]\n",
    "            #print('intensity', intensity.shape)\n",
    "            volume = np.sum((area_cell)*intensity)\n",
    "            #print('volume', volume)\n",
    "            count_matrix_our_train[i,s] = np.random.poisson(volume)\n",
    "\n",
    "        lower_5percentile = np.percentile(count_matrix_our_train[:,s], levels[j])\n",
    "        upper_95percentile = np.percentile(count_matrix_our_train[:,s], 100 - levels[j])\n",
    "\n",
    "        if true_number_events >= lower_5percentile and true_number_events <= upper_95percentile:\n",
    "            coverage[j, s] = 1.\n",
    "        else:\n",
    "            coverage[j, s] = 0.\n",
    "        sns.kdeplot(count_matrix_our_train[:,s])\n",
    "        plt.axvline(xtrain.shape[0], color ='red')\n",
    "    plt.show()\n",
    "\n",
    "print(np.mean(coverage))\n",
    "print(np.std(coverage))\n",
    "\n",
    "mean_coverage = np.mean(coverage, axis = 1)\n",
    "std_coverage = np.std(coverage, axis = 1)"
   ]
  },
  {
   "cell_type": "code",
   "execution_count": null,
   "metadata": {
    "hidden": true
   },
   "outputs": [],
   "source": [
    "num_samples = 100\n",
    "n_seeds = 100\n",
    "count_matrix_our_test = np.zeros((num_samples, n_seeds))\n",
    "true_number_events = xtest.shape[0]\n",
    "coverage_test = np.zeros((levels.shape[0],n_seeds))\n",
    "for j in range(levels.shape[0]):\n",
    "    for s in range(n_seeds):\n",
    "        #print('seed', s)\n",
    "        np.random.seed(s + j)\n",
    "        for i in range(num_samples):\n",
    "            #print('i', i)\n",
    "            lambda_max = np.random.gamma(alpha_final, 1/(beta_final))\n",
    "            latent_function = latent_means + np.sqrt(latent_vars)*np.random.normal(0, 1)\n",
    "            intensity = (lambda_max*metrics.sigmoidal(latent_function) + new_scale - original_scale)[0]\n",
    "            #print('intensity', intensity.shape)\n",
    "            volume = np.sum((area_cell)*intensity)\n",
    "            #print('volume', volume)\n",
    "            count_matrix_our_test[i,s] = np.random.poisson(volume)\n",
    "\n",
    "        lower_5percentile = np.percentile(count_matrix_our_test[:,s], levels[j])\n",
    "        upper_95percentile = np.percentile(count_matrix_our_test[:,s], 100 - levels[j])\n",
    "\n",
    "        if true_number_events >= lower_5percentile and true_number_events <= upper_95percentile:\n",
    "            coverage_test[j, s] = 1.\n",
    "        else:\n",
    "            coverage_test[j, s] = 0.\n",
    "        sns.kdeplot(count_matrix_our_test[:,s])\n",
    "        plt.axvline(xtest.shape[0], color ='red')\n",
    "    plt.show()\n",
    "\n",
    "print(np.mean(coverage_test))\n",
    "print(np.std(coverage_test))\n",
    "\n",
    "mean_coverage_test = np.mean(coverage_test, axis = 1)\n",
    "std_coverage_test = np.std(coverage_test, axis = 1)"
   ]
  },
  {
   "cell_type": "code",
   "execution_count": null,
   "metadata": {
    "hidden": true
   },
   "outputs": [],
   "source": []
  }
 ],
 "metadata": {
  "kernelspec": {
   "display_name": "Python 3",
   "language": "python",
   "name": "python3"
  },
  "language_info": {
   "codemirror_mode": {
    "name": "ipython",
    "version": 3
   },
   "file_extension": ".py",
   "mimetype": "text/x-python",
   "name": "python",
   "nbconvert_exporter": "python",
   "pygments_lexer": "ipython3",
   "version": "3.7.3"
  }
 },
 "nbformat": 4,
 "nbformat_minor": 2
}
